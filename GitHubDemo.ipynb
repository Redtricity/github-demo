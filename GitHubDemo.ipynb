{
  "nbformat": 4,
  "nbformat_minor": 0,
  "metadata": {
    "colab": {
      "provenance": [],
      "authorship_tag": "ABX9TyOV0u6tcH9TfrXkD6k+94n6",
      "include_colab_link": true
    },
    "kernelspec": {
      "name": "python3",
      "display_name": "Python 3"
    },
    "language_info": {
      "name": "python"
    }
  },
  "cells": [
    {
      "cell_type": "markdown",
      "metadata": {
        "id": "view-in-github",
        "colab_type": "text"
      },
      "source": [
        "<a href=\"https://colab.research.google.com/github/Redtricity/github-demo/blob/main/GitHubDemo.ipynb\" target=\"_parent\"><img src=\"https://colab.research.google.com/assets/colab-badge.svg\" alt=\"Open In Colab\"/></a>"
      ]
    },
    {
      "cell_type": "code",
      "execution_count": null,
      "metadata": {
        "id": "Gp39cCEQNBoY"
      },
      "outputs": [],
      "source": [
        "print(\"Hi this is a demo\")"
      ]
    },
    {
      "cell_type": "code",
      "metadata": {
        "id": "31cd7ebe",
        "outputId": "618e3b4f-e21f-4c85-9cf0-2456f14407a2",
        "colab": {
          "base_uri": "https://localhost:8080/"
        }
      },
      "source": [
        "name = 'lara'\n",
        "print(f\"Hi my name is {name}\")"
      ],
      "execution_count": 4,
      "outputs": [
        {
          "output_type": "stream",
          "name": "stdout",
          "text": [
            "Hi my name is lara\n"
          ]
        }
      ]
    }
  ]
}